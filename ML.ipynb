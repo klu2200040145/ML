{
  "cells": [
    {
      "cell_type": "markdown",
      "metadata": {
        "id": "view-in-github",
        "colab_type": "text"
      },
      "source": [
        "<a href=\"https://colab.research.google.com/github/klu2200040145/ML/blob/main/ML.ipynb\" target=\"_parent\"><img src=\"https://colab.research.google.com/assets/colab-badge.svg\" alt=\"Open In Colab\"/></a>"
      ]
    },
    {
      "source": [
        "# Import necessary libraries\n",
        "import pandas as pd\n",
        "from sklearn.tree import DecisionTreeClassifier\n",
        "from sklearn.metrics import precision_score, recall_score, f1_score, accuracy_score\n",
        "\n",
        "# Load datasets (update the paths with actual locations)\n",
        "train_path = '/content/train.csv'\n",
        "test_path = '/content/test.csv'\n",
        "\n",
        "train_data = pd.read_csv(train_path)\n",
        "test_data = pd.read_csv(test_path)\n",
        "\n",
        "# Preprocess data (Assuming `entity_name` is the label and others are features)\n",
        "# Dropping columns that may not be useful for training directly\n",
        "X_train = train_data.drop(columns=['entity_name', 'entity_value', 'image_link'])\n",
        "y_train = train_data['entity_name']\n",
        "\n",
        "X_test = test_data.drop(columns=['entity_name', 'image_link']) # Removed 'entity_value' from this list as it does not exist in test_data\n",
        "y_test = test_data['entity_name']\n",
        "\n",
        "# Initialize a Decision Tree Classifier (you can use any other model here)\n",
        "model = DecisionTreeClassifier()\n",
        "\n",
        "# Train the model on the training data\n",
        "model.fit(X_train, y_train)\n",
        "\n",
        "# Predict on the test data\n",
        "# Remove the index from X_test before prediction\n",
        "X_test = X_test.drop(columns=['index'])\n",
        "y_pred = model.predict(X_test)\n",
        "\n",
        "# Calculate Precision, Recall, F1 Score, and Accuracy\n",
        "precision = precision_score(y_test, y_pred, average='micro')\n",
        "recall = recall_score(y_test, y_pred, average='micro')\n",
        "f1 = f1_score(y_test, y_pred, average='micro')\n",
        "accuracy = accuracy_score(y_test, y_pred)\n",
        "\n",
        "# Output the results\n",
        "print(f\"Precision: {precision}\")\n",
        "print(f\"Recall: {recall}\")\n",
        "print(f\"F1 Score: {f1}\")\n",
        "print(f\"Accuracy: {accuracy}\")\n",
        "\n",
        "# Save predictions to a CSV file\n",
        "output_df = pd.DataFrame({'GT': y_test, 'OUT': y_pred})\n",
        "output_df.to_csv('output_test_out.csv', index=False)"
      ],
      "cell_type": "code",
      "metadata": {
        "colab": {
          "base_uri": "https://localhost:8080/"
        },
        "id": "yM7knAZLFnEm",
        "outputId": "d76d4f53-9e6e-472e-a50a-d463d006614e"
      },
      "execution_count": 2,
      "outputs": [
        {
          "output_type": "stream",
          "name": "stdout",
          "text": [
            "Precision: 0.36733060440439985\n",
            "Recall: 0.36733060440439985\n",
            "F1 Score: 0.36733060440439985\n",
            "Accuracy: 0.36733060440439985\n"
          ]
        }
      ]
    }
  ],
  "metadata": {
    "colab": {
      "provenance": [],
      "name": "ML.ipynb",
      "include_colab_link": true
    },
    "kernelspec": {
      "display_name": "Python 3",
      "name": "python3"
    }
  },
  "nbformat": 4,
  "nbformat_minor": 0
}